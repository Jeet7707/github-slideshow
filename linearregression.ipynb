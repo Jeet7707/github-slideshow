{
  "nbformat": 4,
  "nbformat_minor": 0,
  "metadata": {
    "colab": {
      "name": "linearregression.ipynb",
      "provenance": [],
      "authorship_tag": "ABX9TyPRCvLW061SfZ/Pbqat8Z/R",
      "include_colab_link": true
    },
    "kernelspec": {
      "name": "python3",
      "display_name": "Python 3"
    },
    "language_info": {
      "name": "python"
    }
  },
  "cells": [
    {
      "cell_type": "markdown",
      "metadata": {
        "id": "view-in-github",
        "colab_type": "text"
      },
      "source": [
        "<a href=\"https://colab.research.google.com/github/Jeet7707/github-slideshow/blob/master/linearregression.ipynb\" target=\"_parent\"><img src=\"https://colab.research.google.com/assets/colab-badge.svg\" alt=\"Open In Colab\"/></a>"
      ]
    },
    {
      "cell_type": "code",
      "metadata": {
        "colab": {
          "base_uri": "https://localhost:8080/"
        },
        "id": "iXajtAnJfPIr",
        "outputId": "463e6ce1-375f-4cf6-c081-77d3bddd9a75"
      },
      "source": [
        "print(\"hello\")\n",
        "a=5+5\n",
        "b=3+3\n",
        "c=a+b\n",
        "print(c)"
      ],
      "execution_count": null,
      "outputs": [
        {
          "output_type": "stream",
          "name": "stdout",
          "text": [
            "hello\n",
            "16\n"
          ]
        }
      ]
    },
    {
      "cell_type": "code",
      "metadata": {
        "id": "Ie32Ys1ifpP_",
        "colab": {
          "base_uri": "https://localhost:8080/"
        },
        "outputId": "0d3dfed7-1780-4e3d-f13f-be43210c9427"
      },
      "source": [
        "import pandas as pd\n",
        "\n",
        "di = {'date':[\"1/2/2000\",\"2/3/2000\"],\n",
        "      'minimum temprature':[18.5,19.8],\n",
        "      'maximum temprature':[28.7,23.8]}\n",
        "df = pd.DataFrame(di)\n",
        "print(df)"
      ],
      "execution_count": null,
      "outputs": [
        {
          "output_type": "stream",
          "name": "stdout",
          "text": [
            "       date  minimum temprature  maximum temprature\n",
            "0  1/2/2000                18.5                28.7\n",
            "1  2/3/2000                19.8                23.8\n"
          ]
        }
      ]
    },
    {
      "cell_type": "code",
      "metadata": {
        "id": "V6xpghIHynR6"
      },
      "source": [
        "import pandas as pd\n",
        "import numpy as np\n",
        "import matplotlib.pyplot as plt\n"
      ],
      "execution_count": 1,
      "outputs": []
    },
    {
      "cell_type": "markdown",
      "metadata": {
        "id": "JmZX3lV-a7gE"
      },
      "source": [
        "take file and read tha data"
      ]
    },
    {
      "cell_type": "code",
      "metadata": {
        "colab": {
          "base_uri": "https://localhost:8080/",
          "height": 203
        },
        "id": "SET1QwxKa643",
        "outputId": "6909903b-9145-48ac-e89e-e7f470b7cb91"
      },
      "source": [
        "exp_sal = pd.read_csv('/content/Salary_Data.csv')\n",
        "exp_sal.head()"
      ],
      "execution_count": 2,
      "outputs": [
        {
          "output_type": "execute_result",
          "data": {
            "text/html": [
              "<div>\n",
              "<style scoped>\n",
              "    .dataframe tbody tr th:only-of-type {\n",
              "        vertical-align: middle;\n",
              "    }\n",
              "\n",
              "    .dataframe tbody tr th {\n",
              "        vertical-align: top;\n",
              "    }\n",
              "\n",
              "    .dataframe thead th {\n",
              "        text-align: right;\n",
              "    }\n",
              "</style>\n",
              "<table border=\"1\" class=\"dataframe\">\n",
              "  <thead>\n",
              "    <tr style=\"text-align: right;\">\n",
              "      <th></th>\n",
              "      <th>YearsExperience</th>\n",
              "      <th>Salary</th>\n",
              "    </tr>\n",
              "  </thead>\n",
              "  <tbody>\n",
              "    <tr>\n",
              "      <th>0</th>\n",
              "      <td>1.1</td>\n",
              "      <td>39343.0</td>\n",
              "    </tr>\n",
              "    <tr>\n",
              "      <th>1</th>\n",
              "      <td>1.3</td>\n",
              "      <td>46205.0</td>\n",
              "    </tr>\n",
              "    <tr>\n",
              "      <th>2</th>\n",
              "      <td>1.5</td>\n",
              "      <td>37731.0</td>\n",
              "    </tr>\n",
              "    <tr>\n",
              "      <th>3</th>\n",
              "      <td>2.0</td>\n",
              "      <td>43525.0</td>\n",
              "    </tr>\n",
              "    <tr>\n",
              "      <th>4</th>\n",
              "      <td>2.2</td>\n",
              "      <td>39891.0</td>\n",
              "    </tr>\n",
              "  </tbody>\n",
              "</table>\n",
              "</div>"
            ],
            "text/plain": [
              "   YearsExperience   Salary\n",
              "0              1.1  39343.0\n",
              "1              1.3  46205.0\n",
              "2              1.5  37731.0\n",
              "3              2.0  43525.0\n",
              "4              2.2  39891.0"
            ]
          },
          "metadata": {},
          "execution_count": 2
        }
      ]
    },
    {
      "cell_type": "markdown",
      "metadata": {
        "id": "dbm2685dbhRM"
      },
      "source": [
        "here check cleaning is requried it means machine only read binary data it can not read alphabeticl values."
      ]
    },
    {
      "cell_type": "code",
      "metadata": {
        "colab": {
          "base_uri": "https://localhost:8080/"
        },
        "id": "gMr5-u4Jbc8o",
        "outputId": "a1387513-86a0-477c-897f-4ec9c6289eed"
      },
      "source": [
        "exp_sal.dtypes"
      ],
      "execution_count": 6,
      "outputs": [
        {
          "output_type": "execute_result",
          "data": {
            "text/plain": [
              "YearsExperience    float64\n",
              "Salary             float64\n",
              "dtype: object"
            ]
          },
          "metadata": {},
          "execution_count": 6
        }
      ]
    },
    {
      "cell_type": "markdown",
      "metadata": {
        "id": "gmdxzFmXcKb1"
      },
      "source": [
        "Split to x and y (x are set of independent variable and y is dependent variable) where x and y must be numpy arrays"
      ]
    },
    {
      "cell_type": "code",
      "metadata": {
        "colab": {
          "base_uri": "https://localhost:8080/"
        },
        "id": "RRjP75MQcEaR",
        "outputId": "15f3be05-9451-4411-b5d3-7fad51501f7e"
      },
      "source": [
        "x = exp_sal['YearsExperience']\n",
        "x = np.array(x)\n",
        "print(x)\n",
        "y = exp_sal['Salary']\n",
        "y = np.array(y)\n",
        "print(y)\n",
        "print(type(x))\n",
        "print(type(y))"
      ],
      "execution_count": 7,
      "outputs": [
        {
          "output_type": "stream",
          "name": "stdout",
          "text": [
            "[ 1.1  1.3  1.5  2.   2.2  2.9  3.   3.2  3.2  3.7  3.9  4.   4.   4.1\n",
            "  4.5  4.9  5.1  5.3  5.9  6.   6.8  7.1  7.9  8.2  8.7  9.   9.5  9.6\n",
            " 10.3 10.5]\n",
            "[ 39343.  46205.  37731.  43525.  39891.  56642.  60150.  54445.  64445.\n",
            "  57189.  63218.  55794.  56957.  57081.  61111.  67938.  66029.  83088.\n",
            "  81363.  93940.  91738.  98273. 101302. 113812. 109431. 105582. 116969.\n",
            " 112635. 122391. 121872.]\n",
            "<class 'numpy.ndarray'>\n",
            "<class 'numpy.ndarray'>\n"
          ]
        }
      ]
    },
    {
      "cell_type": "markdown",
      "metadata": {
        "id": "byeR7WM5dGkn"
      },
      "source": [
        "now we have to send data for traning and testing :"
      ]
    },
    {
      "cell_type": "code",
      "metadata": {
        "id": "pVxwo0zXdDFy"
      },
      "source": [
        "from sklearn.model_selection import train_test_split\n",
        "train_x,test_x,train_y,test_y = train_test_split(x,y,test_size = 0.2,random_state = 2020)"
      ],
      "execution_count": 17,
      "outputs": []
    },
    {
      "cell_type": "code",
      "metadata": {
        "colab": {
          "base_uri": "https://localhost:8080/"
        },
        "id": "L-CtCbUAeJe3",
        "outputId": "6cba102e-831b-423c-a016-3195bd967fc6"
      },
      "source": [
        "print(train_x.shape)\n",
        "print(test_x.shape)\n",
        "print(train_y.shape)\n",
        "print(test_y.shape)\n",
        "train_x = np.reshape(train_x,(-1,1))\n",
        "test_x = np.reshape(test_x,(-1,1))\n",
        "train_y = np.reshape(train_y,(-1,1))\n",
        "test_y = np.reshape(test_y,(-1,1))\n",
        "print(train_x.shape)\n",
        "print(test_x.shape)\n",
        "print(train_y.shape)\n",
        "print(test_y.shape)"
      ],
      "execution_count": 19,
      "outputs": [
        {
          "output_type": "stream",
          "name": "stdout",
          "text": [
            "(24,)\n",
            "(6,)\n",
            "(24,)\n",
            "(6,)\n",
            "(24, 1)\n",
            "(6, 1)\n",
            "(24, 1)\n",
            "(6, 1)\n"
          ]
        }
      ]
    },
    {
      "cell_type": "markdown",
      "metadata": {
        "id": "5QgAHm7QfNSC"
      },
      "source": [
        "now its time to Train the ML Model\n",
        "\n",
        "then Predict based on Testing Data\n",
        "\n",
        "and lastly Visualize the model and results to understand"
      ]
    },
    {
      "cell_type": "code",
      "metadata": {
        "colab": {
          "base_uri": "https://localhost:8080/"
        },
        "id": "HFotxobWfHbE",
        "outputId": "0725728b-26b7-46ec-b6c8-18503772a568"
      },
      "source": [
        "from sklearn.linear_model import LinearRegression\n",
        "regressor = LinearRegression()\n",
        "#fit the model\n",
        "regressor.fit(train_x,train_y)\n",
        "print(regressor.coef_)\n",
        "print(regressor.intercept_)"
      ],
      "execution_count": 20,
      "outputs": [
        {
          "output_type": "stream",
          "name": "stdout",
          "text": [
            "[[9182.60302136]]\n",
            "[26315.04816606]\n"
          ]
        }
      ]
    },
    {
      "cell_type": "markdown",
      "metadata": {
        "id": "KG9QHaargkKu"
      },
      "source": [
        "predict from the fit model:\n"
      ]
    },
    {
      "cell_type": "code",
      "metadata": {
        "id": "DKMy4HyAgg0y"
      },
      "source": [
        "prey_y = regressor.predict(test_x)\n"
      ],
      "execution_count": 21,
      "outputs": []
    },
    {
      "cell_type": "code",
      "metadata": {
        "colab": {
          "base_uri": "https://localhost:8080/"
        },
        "id": "GOxihh8fg5Ap",
        "outputId": "0b1c53b1-31f0-4bb7-9662-39144c0713d8"
      },
      "source": [
        "for i in range(0,len(prey_y)):\n",
        "  print(\"predicted : \",prey_y[i],\"Actual value :\",test_y[i])\n"
      ],
      "execution_count": 22,
      "outputs": [
        {
          "output_type": "stream",
          "name": "stdout",
          "text": [
            "predicted :  [67636.76176217] Actual value : [61111.]\n",
            "predicted :  [74982.84417926] Actual value : [83088.]\n",
            "predicted :  [81410.66629421] Actual value : [93940.]\n",
            "predicted :  [88756.74871129] Actual value : [91738.]\n",
            "predicted :  [101612.39294119] Actual value : [113812.]\n",
            "predicted :  [40088.9526981] Actual value : [37731.]\n"
          ]
        }
      ]
    },
    {
      "cell_type": "code",
      "metadata": {
        "colab": {
          "base_uri": "https://localhost:8080/",
          "height": 279
        },
        "id": "IVBznPD5h_Z2",
        "outputId": "bea7886c-f053-4787-b252-2f00f03cfced"
      },
      "source": [
        "plt.scatter(x,y,color='darkred')\n",
        "plt.xlabel('YearExperience')\n",
        "plt.ylabel('Salery')\n",
        "plt.show()"
      ],
      "execution_count": 24,
      "outputs": [
        {
          "output_type": "display_data",
          "data": {
            "image/png": "[encoded data removed]",
            "text/plain": [
              "<Figure size 432x288 with 1 Axes>"
            ]
          },
          "metadata": {
            "needs_background": "light"
          }
        }
      ]
    },
    {
      "cell_type": "code",
      "metadata": {
        "colab": {
          "base_uri": "https://localhost:8080/",
          "height": 279
        },
        "id": "aEPCtJF8iq6d",
        "outputId": "c01cf9ce-c461-40d1-8e91-bb1d887b49c2"
      },
      "source": [
        "plt.scatter(train_x,train_y,color='darkred')\n",
        "plt.plot(train_x,regressor.predict(train_x),color = 'blue')\n",
        "plt.xlabel('YearExperience')\n",
        "plt.ylabel('Salery')\n",
        "plt.show()"
      ],
      "execution_count": 25,
      "outputs": [
        {
          "output_type": "display_data",
          "data": {
            "image/png": "[encoded data removed]",
            "text/plain": [
              "<Figure size 432x288 with 1 Axes>"
            ]
          },
          "metadata": {
            "needs_background": "light"
          }
        }
      ]
    },
    {
      "cell_type": "code",
      "metadata": {
        "colab": {
          "base_uri": "https://localhost:8080/",
          "height": 279
        },
        "id": "ADeIzUbGjlPJ",
        "outputId": "7abef96a-fbbc-4314-a35c-8d014fc041d6"
      },
      "source": [
        "plt.scatter(train_x,train_y,color='darkred')\n",
        "plt.plot(train_x,regressor.predict(train_x),color = 'blue')\n",
        "plt.xlabel('YearExperience')\n",
        "plt.ylabel('Salery')\n",
        "plt.show()"
      ],
      "execution_count": 33,
      "outputs": [
        {
          "output_type": "display_data",
          "data": {
            "image/png": "[encoded data removed]",
            "text/plain": [
              "<Figure size 432x288 with 1 Axes>"
            ]
          },
          "metadata": {
            "needs_background": "light"
          }
        }
      ]
    },
    {
      "cell_type": "code",
      "metadata": {
        "colab": {
          "base_uri": "https://localhost:8080/"
        },
        "id": "Czw_HoXAkx2T",
        "outputId": "6ed24464-4bd8-4432-bb6d-7b14c0f11949"
      },
      "source": [
        "x = np.reshape(x,(-1,1))\n",
        "y = np.reshape(y,(-1,1))\n",
        "r_sse = regressor.score(x,y)\n",
        "print(r_sse)"
      ],
      "execution_count": 34,
      "outputs": [
        {
          "output_type": "stream",
          "name": "stdout",
          "text": [
            "0.9550813781825057\n"
          ]
        }
      ]
    }
  ]
}